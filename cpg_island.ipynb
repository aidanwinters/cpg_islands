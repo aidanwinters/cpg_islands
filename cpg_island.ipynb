{
 "cells": [
  {
   "cell_type": "code",
   "execution_count": null,
   "metadata": {},
   "outputs": [],
   "source": [
    "# if (!requireNamespace(\"BiocManager\", quietly = TRUE))\n",
    "#     install.packages(\"BiocManager\")\n",
    "\n",
    "# BiocManager::install(\"GEOquery\")\n",
    "# BiocManager::install(\"Biobase\")\n",
    "# BiocManager::install(\"ChAMP\")\n",
    "# BiocManager::install(\"ChAMPdata\")"
   ]
  },
  {
   "cell_type": "code",
   "execution_count": null,
   "metadata": {},
   "outputs": [],
   "source": [
    "library(ggplot2)"
   ]
  },
  {
   "cell_type": "code",
   "execution_count": null,
   "metadata": {},
   "outputs": [],
   "source": [
    "library(GEOquery)\n",
    "library(Biobase)\n",
    "library(ChAMP)\n",
    "library(ChAMPdata)\n",
    "library('ggpubr')\n",
    "library('scales')"
   ]
  },
  {
   "cell_type": "code",
   "execution_count": null,
   "metadata": {},
   "outputs": [],
   "source": [
    "gset_ra <- getGEO(\"GSE42861\", GSEMatrix=TRUE, getGPL=FALSE)\n",
    "if (length(gset_ra) > 1) idx <- grep(\"GPL13534\", attr(gset, \"names\")) else idx <- 1\n",
    "gset_ra <- gset_ra[[idx]]"
   ]
  },
  {
   "cell_type": "code",
   "execution_count": null,
   "metadata": {},
   "outputs": [],
   "source": [
    "# str(phenoData(gset_ra)@data)\n",
    "beta_ra = gset_ra@assayData$exprs\n",
    "dim(beta_ra)"
   ]
  },
  {
   "cell_type": "code",
   "execution_count": 205,
   "metadata": {},
   "outputs": [],
   "source": [
    "#modified ebGSEA function:\n",
    "\n",
    "ebGSEA_mod = function(beta = myNorm, pheno = myLoad$pd$Sample_Group, minN = 5, \n",
    "          adjPval = 0.05, arraytype = \"450K\") \n",
    "{\n",
    "  message(\"ebGSEA function require no NA in beta and pheno parameter.\")\n",
    "    \n",
    "    \n",
    "  mapEIDtoCpG <- function(beta, arraytype) {\n",
    "    if (arraytype == \"EPIC\") {\n",
    "      message(\"  Extracting annotation from IlluminaHumanMethylationEPICilm10b2.hg19.\")\n",
    "      RSobject <- RatioSet(beta, annotation = c(array = \"IlluminaHumanMethylationEPIC\", \n",
    "                                                annotation = \"ilm10b2.hg19\"))\n",
    "    }\n",
    "    else {\n",
    "      message(\"  Extracting annotation from IlluminaHumanMethylation450kilmn12.hg19.\")\n",
    "      RSobject <- RatioSet(beta, annotation = c(array = \"IlluminaHumanMethylation450k\", \n",
    "                                                annotation = \"ilmn12.hg19\"))\n",
    "    }\n",
    "    \n",
    "    #What is the RSobject?\n",
    "    #Print our the RSanno\n",
    "    RSanno <- as.data.frame(getAnnotation(RSobject))\n",
    "    message(\"  Removing Non-CG probes out of annotation.\")\n",
    "    ann.keep <- RSanno[substr(rownames(RSanno), 1, 2) == \n",
    "                         \"cg\" & RSanno$UCSC_RefGene_Name != \"\", ]\n",
    "    message(\"  Flat all genes on each CpG.\")\n",
    "      \n",
    "    geneslist <- strsplit(ann.keep$UCSC_RefGene_Name, split = \";\")\n",
    "    names(geneslist) <- rownames(ann.keep)\n",
    "    grouplist <- strsplit(ann.keep$UCSC_RefGene_Group, split = \";\")\n",
    "    names(grouplist) <- rownames(ann.keep)\n",
    "    flat <- data.frame(symbol = unlist(geneslist), group = unlist(grouplist))\n",
    "    flat$symbol <- as.character(flat$symbol)\n",
    "    flat$group <- as.character(flat$group)\n",
    "    flat$cpg <- substr(rownames(flat), 1, 10)\n",
    "    flat$alias <- alias2SymbolTable(flat$symbol)\n",
    "    message(\"  Removing all duplicated CpG-genes.\")\n",
    "    id <- paste(flat$cpg, flat$alias, sep = \".\")\n",
    "    d <- duplicated(id)\n",
    "    flat.u <- flat[!d, ]\n",
    "    message(\"  Annotation Prepared.\")\n",
    "    mapEIDtoCpG <- split(flat.u$cpg, flat.u$alias)\n",
    "    return(mapEIDtoCpG)\n",
    "  }\n",
    "    \n",
    "  mapIslandtoCpG <- function(beta, arraytype) {\n",
    "    if (arraytype == \"EPIC\") {\n",
    "      message(\"  Extracting annotation from IlluminaHumanMethylationEPICilm10b2.hg19.\")\n",
    "      RSobject <- RatioSet(beta, annotation = c(array = \"IlluminaHumanMethylationEPIC\", \n",
    "                                                annotation = \"ilm10b2.hg19\"))\n",
    "    }\n",
    "    else {\n",
    "      message(\"  Extracting annotation from IlluminaHumanMethylation450kilmn12.hg19.\")\n",
    "      RSobject <- RatioSet(beta, annotation = c(array = \"IlluminaHumanMethylation450k\", \n",
    "                                                annotation = \"ilmn12.hg19\"))\n",
    "    }\n",
    "    \n",
    "    #What is the RSobject?\n",
    "    #Print our the RSanno\n",
    "    RSanno <- as.data.frame(getAnnotation(RSobject))\n",
    "    message(\"  Removing Non-CG probes out of annotation.\")\n",
    "    ann.keep <- RSanno[substr(rownames(RSanno), 1, 2) == \n",
    "                         \"cg\" & RSanno$UCSC_RefGene_Name != \"\", ]\n",
    "    message(\"  Getting CpG Islands.\")\n",
    "      \n",
    "    return(ann.keep)\n",
    "      \n",
    "    inds = which(ann.keep$Islands_Name != \"\") # equivalent to Islands_Name != \"OpenSea\"\n",
    "    inds_strict = which(ann.keep$Relation_to_Island == \"Island\")\n",
    "\n",
    "    island_list <- ann.keep$Islands_Name[inds]\n",
    "    names(island_list) <- rownames(ann.keep)[inds]\n",
    "\n",
    "    flat <- data.frame(symbol = unlist(island_list))\n",
    "    flat$symbol <- as.character(flat$symbol)\n",
    "    flat$cpg <- substr(rownames(flat), 1, 10)\n",
    "\n",
    "\n",
    "    mapEIDtoCpG <- split(flat$cpg, flat$symbol)\n",
    "    return(mapEIDtoCpG)\n",
    "  }\n",
    "    \n",
    "    \n",
    "  gseaWTfn <- function(termEID.v, rankEID.v, minN = minN) {\n",
    "    commonEID.v <- intersect(termEID.v, rankEID.v)\n",
    "    nrep <- length(commonEID.v)\n",
    "    if (length(commonEID.v) >= minN) {\n",
    "      otherEID.v <- setdiff(rankEID.v, termEID.v)\n",
    "      rank1.idx <- match(commonEID.v, rankEID.v)\n",
    "      rank2.idx <- match(otherEID.v, rankEID.v)\n",
    "      wilcox <- wilcox.test(rank1.idx, rank2.idx, alt = \"less\")\n",
    "      pv <- wilcox$p.value\n",
    "      n1n2 <- nrep * length(otherEID.v)\n",
    "      auc <- (n1n2 - wilcox$statistic)/(n1n2)\n",
    "      pop.v <- 1:length(rankEID.v)\n",
    "      names(pop.v) <- rankEID.v\n",
    "      obs.v <- commonEID.v\n",
    "      pvKPMT <- kpmt::kpmt(pop = pop.v, obs = obs.v, tail = \"lower\")[[4]]\n",
    "      out.v <- c(nrep, auc, pv, pvKPMT)\n",
    "    }\n",
    "    else {\n",
    "      out.v <- c(nrep, 0, 1, 1)\n",
    "    }\n",
    "    return(out.v)\n",
    "  }\n",
    "  message(\"\\n[ Section 1:  Generate Annotation Start ]\\n\")\n",
    "  mapEID <- mapIslandtoCpG(beta, arraytype)\n",
    "  \n",
    "  #mapEID is a list 19,598 genes, each gene is a list of all the probes mapping to that gene\n",
    "  \n",
    "  return(mapEID)\n",
    "  message(\"\\n[ Section 1:  Gen]=[[[[“““““““““““““““““““““““““““““““““““““                         09erate Annotation Done ]\\n\")\n",
    "  message(\"\\n[ Section 2:  Running Global Test Start ]\\n\")\n",
    "  if (class(pheno) == \"numeric\") {\n",
    "    message(\"  Applying Linear Model on Global Test. It could be very slow...\")\n",
    "    gt.o <- gt(response = pheno, alternative = t(beta), model = \"linear\", \n",
    "               directional = FALSE, standardize = FALSE, permutations = 0, \n",
    "               subsets = mapEID, trace = FALSE)\n",
    "  }\n",
    "  else {\n",
    "    message(\"  Applying Binary Model on Global Test. It could be very slow...\")\n",
    "    gt.o <- gt(response = (as.numeric(as.factor(pheno)) - \n",
    "                             1), alternative = t(beta), model = \"logistic\", directional = FALSE, \n",
    "               standardize = FALSE, permutations = 0, subsets = mapEID, \n",
    "               trace = FALSE)\n",
    "  }\n",
    "  resGT.m <- result(gt.o)\n",
    "  tmp.s <- sort(resGT.m[, 1], index.return = TRUE)\n",
    "  sresGT.m <- resGT.m[tmp.s$ix, ]\n",
    "  return(sresGT.m)\n",
    "  message(\"\\n[ Section 2:  Running Global Test Done ]\\n\")\n",
    "  message(\"\\n[ Section 3:  GSEA on Pathway Start ]\\n\")\n",
    "  message(\"  Loading MsigDB PathwayList information.\")\n",
    "  data(PathwayList)\n",
    "  message(\"  Doing Wilcox Test and Known Population Median Test, it could be slow here.\")\n",
    "  gseaWT.m <- do.call(rbind, lapply(PathwayList, function(x) gseaWTfn(termEID.v = x, \n",
    "                                                                      rankEID.v = rownames(sresGT.m), minN = minN)))\n",
    "  colnames(gseaWT.m) <- c(\"nREP\", \"AUC\", \"P\", \"P(KPMT)\")\n",
    "  rownames(gseaWT.m) <- names(PathwayList)\n",
    "  message(\"  Adjusting Pathway P value with BH method.\")\n",
    "  tmp.s <- sort(gseaWT.m[, 3], decreasing = FALSE, index.return = TRUE)\n",
    "  sgseaWT.m <- gseaWT.m[tmp.s$ix, ]\n",
    "  padj.v <- p.adjust(sgseaWT.m[, 3], method = \"BH\")\n",
    "  message(\"  Your adjPval is \", adjPval, \", only pathway below BH adjusted P value 0.05 would be returned.\")\n",
    "  sel.idx <- which(padj.v <= adjPval)\n",
    "  message(\"  Forming up final result.\")\n",
    "  if (length(sel.idx) > 1) {\n",
    "    topGSEAwt.m <- cbind(sgseaWT.m[sel.idx, ], padj.v[sel.idx])\n",
    "    colnames(topGSEAwt.m) <- c(\"nREP\", \"AUC\", \"P(WT)\", \"P(KPMT)\", \n",
    "                               \"adjP\")\n",
    "    topGSEAwt.lm <- list()\n",
    "    topGSEAwt.lm[[1]] <- topGSEAwt.m\n",
    "    tmp.s <- sort(sgseaWT.m[, 2], decreasing = TRUE, index.return = TRUE)\n",
    "    topGSEAwt.lm[[2]] <- sgseaWT.m[tmp.s$ix, ]\n",
    "    names(topGSEAwt.lm) <- c(\"Rank(P)\", \"Rank(AUC)\")\n",
    "  }\n",
    "  else if (length(sel.idx) == 1) {\n",
    "    topGSEAwt.v <- as.vector(c(sgseaWT.m[sel.idx, ], padj.v[sel.idx]))\n",
    "    names(topGSEAwt.v) <- c(\"nREP\", \"AUC\", \"P(WT)\", \"P(KPMT)\", \n",
    "                            \"adjP\")\n",
    "    topGSEAwt.lm <- list(`Rank(P)` = topGSEAwt.v, `Rank(AUC)` = topGSEAwt.v, \n",
    "                         POI = rownames(sgseaWT.m)[sel.idx])\n",
    "  }\n",
    "  else {\n",
    "    message(\"No significant pathway enriched. You may try relax the threshold like adjPva.\")\n",
    "    topGSEAwt.lm <- list()\n",
    "  }\n",
    "  message(\"\\n[ Section 3:  GSEA on Pathway Done ]\\n\")\n",
    "  return(topGSEAwt.lm)\n",
    "}\n"
   ]
  },
  {
   "cell_type": "code",
   "execution_count": 199,
   "metadata": {},
   "outputs": [
    {
     "name": "stderr",
     "output_type": "stream",
     "text": [
      "ebGSEA function require no NA in beta and pheno parameter.\n",
      "\n",
      "\n",
      "[ Section 1:  Generate Annotation Start ]\n",
      "\n",
      "\n",
      "  Extracting annotation from IlluminaHumanMethylation450kilmn12.hg19.\n",
      "\n",
      "  Removing Non-CG probes out of annotation.\n",
      "\n",
      "  Flat all genes on each CpG.\n",
      "\n",
      "Warning message in alias2SymbolTable(flat$symbol):\n",
      "\"Multiple symbols ignored for one or more aliases\"\n",
      "  Removing all duplicated CpG-genes.\n",
      "\n",
      "  Annotation Prepared.\n",
      "\n",
      "\n",
      "[ Section 1:  Gen]=[[[[“““““““““““““““““““““““““““““““““““““                         09erate Annotation Done ]\n",
      "\n",
      "\n",
      "\n",
      "[ Section 2:  Running Global Test Start ]\n",
      "\n",
      "\n",
      "  Applying Binary Model on Global Test. It could be very slow...\n",
      "\n"
     ]
    }
   ],
   "source": [
    "#run the modified ebGSEA function\n",
    "\n",
    "# x = ebGSEA_mod(beta = beta_ra, pheno=gset@phenoData@data[,40])\n",
    "# gene_map = ebGSEA_mod(beta = beta_ra, pheno=gset@phenoData@data[,40])\n",
    "library(globaltest)\n",
    "ra_gene_level = ebGSEA_mod(beta = beta_ra, pheno=gset@phenoData@data[,40])"
   ]
  },
  {
   "cell_type": "code",
   "execution_count": null,
   "metadata": {},
   "outputs": [],
   "source": [
    "# length(unique(x$Islands_Name))\n",
    "x[1:30,c('Islands_Name', 'Relation_to_Island', 'UCSC_RefGene_Group', 'UCSC_RefGene_Name')]\n",
    "# colnames(x)\n",
    "\n",
    "#pie chart of all probes and where they lie\n",
    "# tt = table(x$Relation_to_Island)\n",
    "# lbls <- paste(names(tt), \"\\n\", paste(round(tt/sum(tt), 2) * 100 , \"%\"), sep=\"\")\n",
    "# pie(tt, labels=lbls)\n",
    "\n",
    "\n",
    "\n",
    "#plot of the distribution of cpg island sizes\n",
    "# ggplot(data.frame(sizes), aes(x=sizes)) + geom_density(fill=\"grey\") + scale_x_continuous(trans = log10_trans(),\n",
    "#     breaks = trans_breaks(\"log10\", function(x) 10^x),\n",
    "#     labels = trans_format(\"log10\", function(x) round(10^x))) + xlab(\"CpG island Size (log10)\") + theme_classic() + coord_fixed(ratio = 0.6)\n",
    "       "
   ]
  },
  {
   "cell_type": "code",
   "execution_count": null,
   "metadata": {},
   "outputs": [],
   "source": [
    "mapIsland <- split(rownames(x), x$Islands_Name)"
   ]
  },
  {
   "cell_type": "code",
   "execution_count": null,
   "metadata": {},
   "outputs": [],
   "source": [
    "inds = which(x$Islands_Name != \"\") # equivalent to Islands_Name != \"OpenSea\"\n",
    "inds_strict = which(x$Relation_to_Island == \"Island\")\n",
    "\n",
    "print(length(inds_strict))\n",
    "print(length(inds))\n",
    "print(nrow(x))\n",
    "\n",
    "island_list <- x$Islands_Name[inds_strict]\n",
    "names(island_list) <- rownames(x)[inds_strict]\n",
    "\n",
    "flat <- data.frame(symbol = unlist(island_list))\n",
    "flat$symbol <- as.character(flat$symbol)\n",
    "flat$cpg <- substr(rownames(flat), 1, 10)\n",
    "\n",
    "\n",
    "mapEIDtoCpG <- split(flat$cpg, flat$symbol)\n",
    "island_probe_num = c()\n",
    "island_size = c()\n",
    "for (isl in names(mapEIDtoCpG)){\n",
    "    island_probe_num = c(island_probe_num, length(mapEIDtoCpG[[isl]]))\n",
    "    \n",
    "    r = strsplit(strsplit(isl, ':')[[1]][2], '-')\n",
    "    island_size = c(island_size, as.numeric(r[[1]][2]) - as.numeric(r[[1]][1]))\n",
    "}\n",
    "\n",
    "# hist(log10(island_probe_num))\n",
    "\n",
    "#plot the relationship between island size and the number of probes\n",
    "ggplot(data.frame(x = island_probe_num, y = island_size), aes(x=x, y=y)) +\n",
    "geom_point() + stat_cor(method = \"pearson\", label.x = 40, label.y = 30000) + \n",
    "labs(x=\"# Probes per Island\", y=\"Island Size\")\n",
    "# names(mapEIDtoCpG)[which.max(island_size)]\n"
   ]
  },
  {
   "cell_type": "code",
   "execution_count": null,
   "metadata": {},
   "outputs": [],
   "source": [
    "gene_group = sapply(x$UCSC_RefGene_Group, function(x) strsplit(x, ';')[[1]][1])"
   ]
  },
  {
   "cell_type": "code",
   "execution_count": null,
   "metadata": {},
   "outputs": [],
   "source": [
    "#plot the breakdown of where CpGs are around a gene\n",
    "island_gene = as.data.frame(table(x$Relation_to_Island, gene_group))\n",
    "\n",
    "ggplot(island_gene, aes(x=factor(Var1, levels=c('Island', 'N_Shore', 'S_Shore', 'N_Shelf', 'S_Shelf', 'OpenSea')), y=Freq, fill=gene_group)) + \n",
    "geom_bar(stat=\"identity\", position=\"fill\") + \n",
    "labs(x='') +\n",
    "theme(text = element_text(size=15)) + coord_fixed(ratio=4)\n",
    "\n"
   ]
  },
  {
   "cell_type": "code",
   "execution_count": 200,
   "metadata": {},
   "outputs": [
    {
     "name": "stderr",
     "output_type": "stream",
     "text": [
      "Found 1 file(s)\n",
      "\n",
      "GSE40279_series_matrix.txt.gz\n",
      "\n",
      "Parsed with column specification:\n",
      "cols(\n",
      "  .default = col_double(),\n",
      "  ID_REF = \u001b[31mcol_character()\u001b[39m\n",
      ")\n",
      "\n",
      "See spec(...) for full column specifications.\n",
      "\n"
     ]
    }
   ],
   "source": [
    "gset_age <- getGEO(\"GSE40279\", GSEMatrix=TRUE, getGPL=FALSE)\n",
    "if (length(gset_age) > 1) idx <- grep(\"GPL13534\", attr(gset_age, \"names\")) else idx <- 1\n",
    "gset_age <- gset_age[[idx]]\n",
    "\n",
    "\n",
    "\n",
    "\n",
    "\n",
    "# mapIslandtoGene = split(gene_name, x$Islands_Name)\n",
    "\n",
    "# for (isl in list_of_signif):\n",
    "#     isl_to_gene = mapIslandtoGene[[isl]][1]\n",
    "\n",
    "# gene_df = merge(isl_to_gene, ) "
   ]
  },
  {
   "cell_type": "code",
   "execution_count": 279,
   "metadata": {},
   "outputs": [
    {
     "data": {
      "text/html": [
       "21013"
      ],
      "text/latex": [
       "21013"
      ],
      "text/markdown": [
       "21013"
      ],
      "text/plain": [
       "[1] 21013"
      ]
     },
     "metadata": {},
     "output_type": "display_data"
    }
   ],
   "source": [
    "# x_age = ebGSEA_mod(gset_age@assayData$exprs, pheno=gset_age@phenoData@data[,40])\n",
    "length(unique(x_age$Islands_Name))"
   ]
  },
  {
   "cell_type": "code",
   "execution_count": 207,
   "metadata": {},
   "outputs": [
    {
     "name": "stderr",
     "output_type": "stream",
     "text": [
      "\n",
      "Attaching package: 'readr'\n",
      "\n",
      "\n",
      "The following object is masked from 'package:scales':\n",
      "\n",
      "    col_factor\n",
      "\n",
      "\n",
      "Warning message:\n",
      "\"Missing column names filled in: 'X1' [1]\"\n",
      "Parsed with column specification:\n",
      "cols(\n",
      "  X1 = \u001b[31mcol_character()\u001b[39m,\n",
      "  `p-value` = \u001b[32mcol_double()\u001b[39m,\n",
      "  Statistic = \u001b[32mcol_double()\u001b[39m,\n",
      "  Expected = \u001b[32mcol_double()\u001b[39m,\n",
      "  Std.dev = \u001b[32mcol_double()\u001b[39m,\n",
      "  `#Cov` = \u001b[32mcol_double()\u001b[39m\n",
      ")\n",
      "\n",
      "Warning message:\n",
      "\"Missing column names filled in: 'X1' [1]\"\n",
      "Parsed with column specification:\n",
      "cols(\n",
      "  X1 = \u001b[31mcol_character()\u001b[39m,\n",
      "  `p-value` = \u001b[32mcol_double()\u001b[39m,\n",
      "  Statistic = \u001b[32mcol_double()\u001b[39m,\n",
      "  Expected = \u001b[32mcol_double()\u001b[39m,\n",
      "  Std.dev = \u001b[32mcol_double()\u001b[39m,\n",
      "  `#Cov` = \u001b[32mcol_double()\u001b[39m\n",
      ")\n",
      "\n"
     ]
    }
   ],
   "source": [
    "#to do ::\n",
    "#create plot of island p-values converted into genes and compare to gene p values \n",
    "#create plot of average beta values at each position and then plot based on relation to island, expect to see more methylation in loners\n",
    "#create plot of significance based on # of probes in island\n",
    "\n",
    "library(readr)\n",
    "\n",
    "gene_level = read_csv('ageGT_ComBat.csv')\n",
    "island_level = read_csv('ageGT_islands.csv')"
   ]
  },
  {
   "cell_type": "code",
   "execution_count": 225,
   "metadata": {},
   "outputs": [
    {
     "data": {
      "image/png": "[encoded data removed]",
      "text/plain": [
       "plot without title"
      ]
     },
     "metadata": {
      "image/png": {
       "height": 420,
       "width": 420
      },
      "text/plain": {
       "height": 420,
       "width": 420
      }
     },
     "output_type": "display_data"
    }
   ],
   "source": [
    "# head(island_level$`#Cov`)\n",
    "ggplot(island_level, aes(y=-log10(`p-value`), x=`#Cov`)) + geom_point() + \n",
    "stat_cor(method = \"pearson\", label.x = 60, label.y = 200, size=6) + \n",
    "theme(text = element_text(size=17)) + \n",
    "labs(y='p-value (-log10)', x=\"# probes per island\")"
   ]
  },
  {
   "cell_type": "code",
   "execution_count": 280,
   "metadata": {},
   "outputs": [],
   "source": [
    "age_gene_name = sapply(x_age$UCSC_RefGene_Name, function(x) strsplit(x, ';')[[1]][1])\n",
    "# length(unique(x_age$Islands_Name))"
   ]
  },
  {
   "cell_type": "code",
   "execution_count": 281,
   "metadata": {},
   "outputs": [],
   "source": [
    "inds = which(x_age$Islands_Name != \"\")\n",
    "\n",
    "mapIslandtoGene = split(age_gene_name[inds], x_age$Islands_Name[inds])\n",
    "\n",
    "islandsPerGene = c()\n",
    "geneOnly_island = c()\n",
    "for (isl in names(mapIslandtoGene)){\n",
    "    mapIslandtoGene[[isl]] = unique(mapIslandtoGene[[isl]])\n",
    "    \n",
    "    islandsPerGene = c(islandsPerGene, length(unique(mapIslandtoGene[[isl]])))\n",
    "    geneOnly_island = c(geneOnly_island, unique(mapIslandtoGene[[isl]])[1])\n",
    "}\n"
   ]
  },
  {
   "cell_type": "code",
   "execution_count": 252,
   "metadata": {},
   "outputs": [
    {
     "data": {
      "image/png": "[encoded data removed]",
      "text/plain": [
       "plot without title"
      ]
     },
     "metadata": {
      "image/png": {
       "height": 420,
       "width": 420
      },
      "text/plain": {
       "height": 420,
       "width": 420
      }
     },
     "output_type": "display_data"
    }
   ],
   "source": [
    "#recreating some of the previous figures:\n",
    "\n",
    "# inds = which(x_age$Islands_Name != \"\") # equivalent to Islands_Name != \"OpenSea\"\n",
    "# inds_strict = which(x_age$Relation_to_Island == \"Island\")\n",
    "\n",
    "# print(length(inds_strict))\n",
    "# print(length(inds))\n",
    "# print(nrow(x_age))\n",
    "\n",
    "# island_list <- x_age$Islands_Name[inds]\n",
    "# names(island_list) <- rownames(x_age)[inds]\n",
    "\n",
    "# flat <- data.frame(symbol = unlist(island_list))\n",
    "# flat$symbol <- as.character(flat$symbol)\n",
    "# flat$cpg <- substr(rownames(flat), 1, 10)\n",
    "\n",
    "\n",
    "# mapEIDtoCpG <- split(flat$cpg, flat$symbol)\n",
    "# island_probe_num = c()\n",
    "# island_size = c()\n",
    "# for (isl in names(mapEIDtoCpG)){\n",
    "#     island_probe_num = c(island_probe_num, length(mapEIDtoCpG[[isl]]))\n",
    "    \n",
    "#     r = strsplit(strsplit(isl, ':')[[1]][2], '-')\n",
    "#     island_size = c(island_size, as.numeric(r[[1]][2]) - as.numeric(r[[1]][1]))\n",
    "# }\n",
    "\n",
    "# hist(log10(island_probe_num))\n",
    "\n",
    "#plot the relationship between island size and the number of probes\n",
    "# ggplot(data.frame(x = island_probe_num, y = island_size), aes(x=x, y=y)) +\n",
    "# geom_point() + stat_cor(method = \"pearson\", label.x = 40, label.y = 30000, size=6) + \n",
    "# labs(x=\"# Probes per Island\", y=\"Island Size\") + \n",
    "# theme(text = element_text(size=17))\n",
    "\n",
    "ggplot(data.frame(islandsPerGene), aes(x=islandsPerGene)) + geom_bar(fill=\"grey\") + \n",
    "    theme(text = element_text(size=17))\n",
    "#     scale_x_continuous(trans = log10_trans(),\n",
    "#     breaks = trans_breaks(\"log10\", function(x) 10^x),\n",
    "#     labels = trans_format(\"log10\", function(x) round(10^x))) + xlab(\"CpG island Size (log10)\") + theme_classic() + coord_fixed(ratio = 0.6)\n",
    "       "
   ]
  },
  {
   "cell_type": "code",
   "execution_count": 282,
   "metadata": {},
   "outputs": [
    {
     "data": {
      "text/html": [
       "<table>\n",
       "<caption>A tibble: 6 × 6</caption>\n",
       "<thead>\n",
       "\t<tr><th scope=col>g.X1</th><th scope=col>g.p-value</th><th scope=col>g.Statistic</th><th scope=col>g.Expected</th><th scope=col>g.Std.dev</th><th scope=col>g.#Cov</th></tr>\n",
       "\t<tr><th scope=col>&lt;chr&gt;</th><th scope=col>&lt;dbl&gt;</th><th scope=col>&lt;dbl&gt;</th><th scope=col>&lt;dbl&gt;</th><th scope=col>&lt;dbl&gt;</th><th scope=col>&lt;dbl&gt;</th></tr>\n",
       "</thead>\n",
       "<tbody>\n",
       "\t<tr><td>UROD   </td><td>2.769559e-131</td><td> 4.782921</td><td>0.1526718</td><td>0.16067756</td><td>14</td></tr>\n",
       "\t<tr><td>ELOVL2 </td><td>1.071813e-120</td><td>10.820257</td><td>0.1526718</td><td>0.08812760</td><td>15</td></tr>\n",
       "\t<tr><td>MIR770 </td><td> 1.019922e-94</td><td> 7.732023</td><td>0.1526718</td><td>0.16730127</td><td> 5</td></tr>\n",
       "\t<tr><td>FHL2   </td><td> 6.917865e-90</td><td> 5.576227</td><td>0.1526718</td><td>0.07101935</td><td>34</td></tr>\n",
       "\t<tr><td>ALDH1A1</td><td> 2.026934e-84</td><td>10.809337</td><td>0.1526718</td><td>0.18144395</td><td> 2</td></tr>\n",
       "\t<tr><td>APOL1  </td><td> 6.418344e-74</td><td> 5.720432</td><td>0.1526718</td><td>0.09690953</td><td>10</td></tr>\n",
       "</tbody>\n",
       "</table>\n"
      ],
      "text/latex": [
       "A tibble: 6 × 6\n",
       "\\begin{tabular}{r|llllll}\n",
       " g.X1 & g.p-value & g.Statistic & g.Expected & g.Std.dev & g.\\#Cov\\\\\n",
       " <chr> & <dbl> & <dbl> & <dbl> & <dbl> & <dbl>\\\\\n",
       "\\hline\n",
       "\t UROD    & 2.769559e-131 &  4.782921 & 0.1526718 & 0.16067756 & 14\\\\\n",
       "\t ELOVL2  & 1.071813e-120 & 10.820257 & 0.1526718 & 0.08812760 & 15\\\\\n",
       "\t MIR770  &  1.019922e-94 &  7.732023 & 0.1526718 & 0.16730127 &  5\\\\\n",
       "\t FHL2    &  6.917865e-90 &  5.576227 & 0.1526718 & 0.07101935 & 34\\\\\n",
       "\t ALDH1A1 &  2.026934e-84 & 10.809337 & 0.1526718 & 0.18144395 &  2\\\\\n",
       "\t APOL1   &  6.418344e-74 &  5.720432 & 0.1526718 & 0.09690953 & 10\\\\\n",
       "\\end{tabular}\n"
      ],
      "text/markdown": [
       "\n",
       "A tibble: 6 × 6\n",
       "\n",
       "| g.X1 &lt;chr&gt; | g.p-value &lt;dbl&gt; | g.Statistic &lt;dbl&gt; | g.Expected &lt;dbl&gt; | g.Std.dev &lt;dbl&gt; | g.#Cov &lt;dbl&gt; |\n",
       "|---|---|---|---|---|---|\n",
       "| UROD    | 2.769559e-131 |  4.782921 | 0.1526718 | 0.16067756 | 14 |\n",
       "| ELOVL2  | 1.071813e-120 | 10.820257 | 0.1526718 | 0.08812760 | 15 |\n",
       "| MIR770  |  1.019922e-94 |  7.732023 | 0.1526718 | 0.16730127 |  5 |\n",
       "| FHL2    |  6.917865e-90 |  5.576227 | 0.1526718 | 0.07101935 | 34 |\n",
       "| ALDH1A1 |  2.026934e-84 | 10.809337 | 0.1526718 | 0.18144395 |  2 |\n",
       "| APOL1   |  6.418344e-74 |  5.720432 | 0.1526718 | 0.09690953 | 10 |\n",
       "\n"
      ],
      "text/plain": [
       "  g.X1    g.p-value     g.Statistic g.Expected g.Std.dev  g.#Cov\n",
       "1 UROD    2.769559e-131  4.782921   0.1526718  0.16067756 14    \n",
       "2 ELOVL2  1.071813e-120 10.820257   0.1526718  0.08812760 15    \n",
       "3 MIR770   1.019922e-94  7.732023   0.1526718  0.16730127  5    \n",
       "4 FHL2     6.917865e-90  5.576227   0.1526718  0.07101935 34    \n",
       "5 ALDH1A1  2.026934e-84 10.809337   0.1526718  0.18144395  2    \n",
       "6 APOL1    6.418344e-74  5.720432   0.1526718  0.09690953 10    "
      ]
     },
     "metadata": {},
     "output_type": "display_data"
    },
    {
     "data": {
      "image/png": "[encoded data removed]",
      "text/plain": [
       "plot without title"
      ]
     },
     "metadata": {
      "image/png": {
       "height": 420,
       "width": 420
      },
      "text/plain": {
       "height": 420,
       "width": 420
      }
     },
     "output_type": "display_data"
    }
   ],
   "source": [
    "ig_df = data.frame(island=names(mapIslandtoGene), gene=geneOnly_island)\n",
    "ig_wpval = merge(island_level[,c('X1', 'p-value')], ig_df, by.x='X1', by.y='island')\n",
    "\n",
    "# colnames(gene_level) = paste('g.', colnames(gene_level), sep=\"\")\n",
    "head(gene_level)\n",
    "\n",
    "final = merge(ig_wpval, gene_level[,c('g.X1', 'g.p-value')], by.x='gene', by.y='g.X1')\n",
    "\n",
    "ggplot(final, aes(x=-log10(`g.p-value`), y=-log10(`p-value`))) + geom_point() +\n",
    "    stat_cor(method = \"pearson\", label.x = 50, label.y = 250, size=6) + \n",
    "    labs(x=\"Gene Level (p-value)\", y='Nearest Gene, Island Level (p-value)') +\n",
    "    theme(text = element_text(size=17))\n",
    "\n",
    "\n",
    "# 1 – (rank-1)/n\n",
    "\n",
    "# final$g.rank = 1 - (rank(final$`g.p-value`) - 1)/nrow(final)\n",
    "# final$i.rank = 1 - (rank(final$`p-value`) - 1)/nrow(final)\n",
    "# head(final)\n",
    "\n",
    "# ggplot(final, aes(x=g.rank, y=i.rank)) + geom_point() +\n",
    "# #     stat_cor(method = \"pearson\", label.x = 50, label.y = 250, size=6) + \n",
    "#     labs(x=\"Gene Level (rank)\", y='Nearest Gene, Island Level (rank)') +\n",
    "#     theme(text = element_text(size=17))\n",
    "\n"
   ]
  },
  {
   "cell_type": "code",
   "execution_count": 293,
   "metadata": {},
   "outputs": [
    {
     "data": {
      "text/html": [
       "<table>\n",
       "<caption>A data.frame: 6 × 33</caption>\n",
       "<thead>\n",
       "\t<tr><th></th><th scope=col>chr</th><th scope=col>pos</th><th scope=col>strand</th><th scope=col>Name</th><th scope=col>AddressA</th><th scope=col>AddressB</th><th scope=col>ProbeSeqA</th><th scope=col>ProbeSeqB</th><th scope=col>Type</th><th scope=col>NextBase</th><th scope=col>⋯</th><th scope=col>UCSC_RefGene_Name</th><th scope=col>UCSC_RefGene_Accession</th><th scope=col>UCSC_RefGene_Group</th><th scope=col>Phantom</th><th scope=col>DMR</th><th scope=col>Enhancer</th><th scope=col>HMM_Island</th><th scope=col>Regulatory_Feature_Name</th><th scope=col>Regulatory_Feature_Group</th><th scope=col>DHS</th></tr>\n",
       "\t<tr><th></th><th scope=col>&lt;chr&gt;</th><th scope=col>&lt;int&gt;</th><th scope=col>&lt;chr&gt;</th><th scope=col>&lt;chr&gt;</th><th scope=col>&lt;chr&gt;</th><th scope=col>&lt;chr&gt;</th><th scope=col>&lt;chr&gt;</th><th scope=col>&lt;chr&gt;</th><th scope=col>&lt;chr&gt;</th><th scope=col>&lt;chr&gt;</th><th scope=col>⋯</th><th scope=col>&lt;chr&gt;</th><th scope=col>&lt;chr&gt;</th><th scope=col>&lt;chr&gt;</th><th scope=col>&lt;chr&gt;</th><th scope=col>&lt;chr&gt;</th><th scope=col>&lt;chr&gt;</th><th scope=col>&lt;chr&gt;</th><th scope=col>&lt;chr&gt;</th><th scope=col>&lt;chr&gt;</th><th scope=col>&lt;chr&gt;</th></tr>\n",
       "</thead>\n",
       "<tbody>\n",
       "\t<tr><th scope=row>cg00000029</th><td>chr16</td><td> 53468112</td><td>+</td><td>cg00000029</td><td>14782418</td><td></td><td>AACTATACTAACRAAAAAATATCCAAAAAACACTAACRTATAAAAATTTC</td><td></td><td>II</td><td></td><td>⋯</td><td>RBL2             </td><td>NM_005611                          </td><td>TSS1500          </td><td>                           </td><td></td><td></td><td></td><td>16:53467838-53469685</td><td>Promoter_Associated</td><td>TRUE</td></tr>\n",
       "\t<tr><th scope=row>cg00000108</th><td>chr3 </td><td> 37459206</td><td>+</td><td>cg00000108</td><td>12709357</td><td></td><td>ATACAATAAAACAAACCTAAAATAATCCTAACTCCRCTATCATCCTAACC</td><td></td><td>II</td><td></td><td>⋯</td><td>C3orf35;C3orf35  </td><td>NM_178339;NM_178342                </td><td>Body;3'UTR       </td><td>                           </td><td></td><td></td><td></td><td>                    </td><td>                   </td><td>    </td></tr>\n",
       "\t<tr><th scope=row>cg00000109</th><td>chr3 </td><td>171916037</td><td>+</td><td>cg00000109</td><td>59755374</td><td></td><td>CAATACTAACAAACACATATACCCCCCCACAAATCTTAACTTCTAAATAC</td><td></td><td>II</td><td></td><td>⋯</td><td>FNDC3B;FNDC3B    </td><td>NM_001135095;NM_022763             </td><td>Body;Body        </td><td>low-CpG:173398671-173398760</td><td></td><td></td><td></td><td>                    </td><td>                   </td><td>    </td></tr>\n",
       "\t<tr><th scope=row>cg00000236</th><td>chr8 </td><td> 42263294</td><td>-</td><td>cg00000236</td><td>12649348</td><td></td><td>TATAACRTCATATTAAAAAAAACRATCTAACCCACCAATTTATACATCAC</td><td></td><td>II</td><td></td><td>⋯</td><td>VDAC3;VDAC3      </td><td>NM_005662;NM_001135694             </td><td>3'UTR;3'UTR      </td><td>                           </td><td></td><td></td><td></td><td>                    </td><td>                   </td><td>    </td></tr>\n",
       "\t<tr><th scope=row>cg00000289</th><td>chr14</td><td> 69341139</td><td>+</td><td>cg00000289</td><td>18766346</td><td></td><td>ATCTACTATATTCATTTCTCCAATCTCATATCCATTTTAATATAAAAATC</td><td></td><td>II</td><td></td><td>⋯</td><td>ACTN1;ACTN1;ACTN1</td><td>NM_001130005;NM_001130004;NM_001102</td><td>3'UTR;3'UTR;3'UTR</td><td>                           </td><td></td><td></td><td></td><td>                    </td><td>                   </td><td>    </td></tr>\n",
       "\t<tr><th scope=row>cg00000292</th><td>chr16</td><td> 28890100</td><td>+</td><td>cg00000292</td><td>43764508</td><td></td><td>AAAACATTAATTACCAACCRCTCTTCCAAAAAACACTTACCATTAAAACC</td><td></td><td>II</td><td></td><td>⋯</td><td>ATP2A1;ATP2A1    </td><td>NM_004320;NM_173201                </td><td>1stExon;1stExon  </td><td>                           </td><td></td><td></td><td></td><td>                    </td><td>                   </td><td>    </td></tr>\n",
       "</tbody>\n",
       "</table>\n"
      ],
      "text/latex": [
       "A data.frame: 6 × 33\n",
       "\\begin{tabular}{r|lllllllllllllllllllllllllllllllll}\n",
       "  & chr & pos & strand & Name & AddressA & AddressB & ProbeSeqA & ProbeSeqB & Type & NextBase & Color & Probe\\_rs & Probe\\_maf & CpG\\_rs & CpG\\_maf & SBE\\_rs & SBE\\_maf & Islands\\_Name & Relation\\_to\\_Island & Forward\\_Sequence & SourceSeq & Random\\_Loci & Methyl27\\_Loci & UCSC\\_RefGene\\_Name & UCSC\\_RefGene\\_Accession & UCSC\\_RefGene\\_Group & Phantom & DMR & Enhancer & HMM\\_Island & Regulatory\\_Feature\\_Name & Regulatory\\_Feature\\_Group & DHS\\\\\n",
       "  & <chr> & <int> & <chr> & <chr> & <chr> & <chr> & <chr> & <chr> & <chr> & <chr> & <chr> & <chr> & <dbl> & <chr> & <dbl> & <chr> & <dbl> & <chr> & <chr> & <chr> & <chr> & <chr> & <chr> & <chr> & <chr> & <chr> & <chr> & <chr> & <chr> & <chr> & <chr> & <chr> & <chr>\\\\\n",
       "\\hline\n",
       "\tcg00000029 & chr16 &  53468112 & + & cg00000029 & 14782418 &  & AACTATACTAACRAAAAAATATCCAAAAAACACTAACRTATAAAAATTTC &  & II &  &  & NA         &       NA & NA & NA & NA & NA & chr16:53468284-53469209 & N\\_Shore & TTTTTTAGATAAGGATATCCAGGCGATGAGGAAGTTTTACTTCTGGGAACAGCCTGGATA{[}CG{]}AAACCTTCACACGTCAGTGTCTTTTGGACATTTTCTCGTCAGTACAGCCCTGTTGAATGT & GCTGTACTGACGAGAAAATGTCCAAAAGACACTGACGTGTGAAGGTTTCG &  &      & RBL2              & NM\\_005611                           & TSS1500           &                             &  &  &  & 16:53467838-53469685 & Promoter\\_Associated & TRUE\\\\\n",
       "\tcg00000108 & chr3  &  37459206 & + & cg00000108 & 12709357 &  & ATACAATAAAACAAACCTAAAATAATCCTAACTCCRCTATCATCCTAACC &  & II &  &  & rs9857774  & 0.039182 & NA & NA & NA & NA &                         & OpenSea & TCCATTTTGAAGGAAAAAAATGAAGGCTCTGAAAGTGTAAATCGCTTACTGAAGGGCACA{[}CG{]}GCCAGGATGACAGCGGAGCCAGGATCACCCCAGGTCTGTCTCATTGCATATGTCATGGCT & CGGCCAGGATGACAGCGGAGCCAGGATCACCCCAGGTCTGTCTCATTGCA &  &      & C3orf35;C3orf35   & NM\\_178339;NM\\_178342                 & Body;3'UTR        &                             &  &  &  &                      &                     &     \\\\\n",
       "\tcg00000109 & chr3  & 171916037 & + & cg00000109 & 59755374 &  & CAATACTAACAAACACATATACCCCCCCACAAATCTTAACTTCTAAATAC &  & II &  &  & NA         &       NA & NA & NA & NA & NA &                         & OpenSea & GCCTTAGTCCTGAATGAGCCATTTCTCTAAGAAGTCCTGGCTTCTTTTTTAATAGAGAAT{[}CG{]}TATTTAGAAGCCAAGATCTGTGGGGGGGTACATGTGCCTGTTAGTATTGCAGTTGTGCCT & AATACTAACAGGCACATGTACCCCCCCACAGATCTTGGCTTCTAAATACG &  &      & FNDC3B;FNDC3B     & NM\\_001135095;NM\\_022763              & Body;Body         & low-CpG:173398671-173398760 &  &  &  &                      &                     &     \\\\\n",
       "\tcg00000236 & chr8  &  42263294 & - & cg00000236 & 12649348 &  & TATAACRTCATATTAAAAAAAACRATCTAACCCACCAATTTATACATCAC &  & II &  &  & NA         &       NA & NA & NA & NA & NA &                         & OpenSea & CTCAGCGACAGTGTAGCGTCATGTTAGAGGAGACGATCTGACCCACCAGTTTGTACATCA{[}CG{]}TCCTGCATGTCCCACACCATTTTTTCATGACCTTGTAATATACTGGTCTCTGTGCTATAG & GTAGCGTCATGTTAGAGGAGACGATCTGACCCACCAGTTTGTACATCACG &  &      & VDAC3;VDAC3       & NM\\_005662;NM\\_001135694              & 3'UTR;3'UTR       &                             &  &  &  &                      &                     &     \\\\\n",
       "\tcg00000289 & chr14 &  69341139 & + & cg00000289 & 18766346 &  & ATCTACTATATTCATTTCTCCAATCTCATATCCATTTTAATATAAAAATC &  & II &  &  & NA         &       NA & NA & NA & NA & NA & chr14:69341427-69341820 & N\\_Shore & CAAGTGAGCTAGCAAACACACATGCACCAATGTGCCTTTTGACAAGAGTACCCCCTACCC{[}CG{]}ACTCCCACACCAAAATGGACATGAGATTGGAGAAATGAATACAGCAGATGGAACAGATAG & TCTGCTGTATTCATTTCTCCAATCTCATGTCCATTTTGGTGTGGGAGTCG &  &      & ACTN1;ACTN1;ACTN1 & NM\\_001130005;NM\\_001130004;NM\\_001102 & 3'UTR;3'UTR;3'UTR &                             &  &  &  &                      &                     &     \\\\\n",
       "\tcg00000292 & chr16 &  28890100 & + & cg00000292 & 43764508 &  & AAAACATTAATTACCAACCRCTCTTCCAAAAAACACTTACCATTAAAACC &  & II &  &  & rs62037371 & 0.303865 & NA & NA & NA & NA & chr16:28890954-28891868 & N\\_Shore & TGGGGTGAGTGAGACCACGGGCCTCACCCCGGACCAAGTTAAGCGGAATCTGGAGAAATA{[}CG{]}GCCTCAATGGTAAGTGTCCCTTGGAAGAGCGGCTGGTAATTAATGCCCTCCTGCACCCCC & CGGCCTCAATGGTAAGTGTCCCTTGGAAGAGCGGCTGGTAATTAATGCCC &  & TRUE & ATP2A1;ATP2A1     & NM\\_004320;NM\\_173201                 & 1stExon;1stExon   &                             &  &  &  &                      &                     &     \\\\\n",
       "\\end{tabular}\n"
      ],
      "text/markdown": [
       "\n",
       "A data.frame: 6 × 33\n",
       "\n",
       "| <!--/--> | chr &lt;chr&gt; | pos &lt;int&gt; | strand &lt;chr&gt; | Name &lt;chr&gt; | AddressA &lt;chr&gt; | AddressB &lt;chr&gt; | ProbeSeqA &lt;chr&gt; | ProbeSeqB &lt;chr&gt; | Type &lt;chr&gt; | NextBase &lt;chr&gt; | ⋯ ⋯ | UCSC_RefGene_Name &lt;chr&gt; | UCSC_RefGene_Accession &lt;chr&gt; | UCSC_RefGene_Group &lt;chr&gt; | Phantom &lt;chr&gt; | DMR &lt;chr&gt; | Enhancer &lt;chr&gt; | HMM_Island &lt;chr&gt; | Regulatory_Feature_Name &lt;chr&gt; | Regulatory_Feature_Group &lt;chr&gt; | DHS &lt;chr&gt; |\n",
       "|---|---|---|---|---|---|---|---|---|---|---|---|---|---|---|---|---|---|---|---|---|---|\n",
       "| cg00000029 | chr16 |  53468112 | + | cg00000029 | 14782418 | <!----> | AACTATACTAACRAAAAAATATCCAAAAAACACTAACRTATAAAAATTTC | <!----> | II | <!----> | ⋯ | RBL2              | NM_005611                           | TSS1500           | <!----> | <!----> | <!----> | <!----> | 16:53467838-53469685 | Promoter_Associated | TRUE |\n",
       "| cg00000108 | chr3  |  37459206 | + | cg00000108 | 12709357 | <!----> | ATACAATAAAACAAACCTAAAATAATCCTAACTCCRCTATCATCCTAACC | <!----> | II | <!----> | ⋯ | C3orf35;C3orf35   | NM_178339;NM_178342                 | Body;3'UTR        | <!----> | <!----> | <!----> | <!----> | <!----> | <!----> | <!----> |\n",
       "| cg00000109 | chr3  | 171916037 | + | cg00000109 | 59755374 | <!----> | CAATACTAACAAACACATATACCCCCCCACAAATCTTAACTTCTAAATAC | <!----> | II | <!----> | ⋯ | FNDC3B;FNDC3B     | NM_001135095;NM_022763              | Body;Body         | low-CpG:173398671-173398760 | <!----> | <!----> | <!----> | <!----> | <!----> | <!----> |\n",
       "| cg00000236 | chr8  |  42263294 | - | cg00000236 | 12649348 | <!----> | TATAACRTCATATTAAAAAAAACRATCTAACCCACCAATTTATACATCAC | <!----> | II | <!----> | ⋯ | VDAC3;VDAC3       | NM_005662;NM_001135694              | 3'UTR;3'UTR       | <!----> | <!----> | <!----> | <!----> | <!----> | <!----> | <!----> |\n",
       "| cg00000289 | chr14 |  69341139 | + | cg00000289 | 18766346 | <!----> | ATCTACTATATTCATTTCTCCAATCTCATATCCATTTTAATATAAAAATC | <!----> | II | <!----> | ⋯ | ACTN1;ACTN1;ACTN1 | NM_001130005;NM_001130004;NM_001102 | 3'UTR;3'UTR;3'UTR | <!----> | <!----> | <!----> | <!----> | <!----> | <!----> | <!----> |\n",
       "| cg00000292 | chr16 |  28890100 | + | cg00000292 | 43764508 | <!----> | AAAACATTAATTACCAACCRCTCTTCCAAAAAACACTTACCATTAAAACC | <!----> | II | <!----> | ⋯ | ATP2A1;ATP2A1     | NM_004320;NM_173201                 | 1stExon;1stExon   | <!----> | <!----> | <!----> | <!----> | <!----> | <!----> | <!----> |\n",
       "\n"
      ],
      "text/plain": [
       "           chr   pos       strand Name       AddressA AddressB\n",
       "cg00000029 chr16  53468112 +      cg00000029 14782418         \n",
       "cg00000108 chr3   37459206 +      cg00000108 12709357         \n",
       "cg00000109 chr3  171916037 +      cg00000109 59755374         \n",
       "cg00000236 chr8   42263294 -      cg00000236 12649348         \n",
       "cg00000289 chr14  69341139 +      cg00000289 18766346         \n",
       "cg00000292 chr16  28890100 +      cg00000292 43764508         \n",
       "           ProbeSeqA                                          ProbeSeqB Type\n",
       "cg00000029 AACTATACTAACRAAAAAATATCCAAAAAACACTAACRTATAAAAATTTC           II  \n",
       "cg00000108 ATACAATAAAACAAACCTAAAATAATCCTAACTCCRCTATCATCCTAACC           II  \n",
       "cg00000109 CAATACTAACAAACACATATACCCCCCCACAAATCTTAACTTCTAAATAC           II  \n",
       "cg00000236 TATAACRTCATATTAAAAAAAACRATCTAACCCACCAATTTATACATCAC           II  \n",
       "cg00000289 ATCTACTATATTCATTTCTCCAATCTCATATCCATTTTAATATAAAAATC           II  \n",
       "cg00000292 AAAACATTAATTACCAACCRCTCTTCCAAAAAACACTTACCATTAAAACC           II  \n",
       "           NextBase ⋯ UCSC_RefGene_Name UCSC_RefGene_Accession             \n",
       "cg00000029          ⋯ RBL2              NM_005611                          \n",
       "cg00000108          ⋯ C3orf35;C3orf35   NM_178339;NM_178342                \n",
       "cg00000109          ⋯ FNDC3B;FNDC3B     NM_001135095;NM_022763             \n",
       "cg00000236          ⋯ VDAC3;VDAC3       NM_005662;NM_001135694             \n",
       "cg00000289          ⋯ ACTN1;ACTN1;ACTN1 NM_001130005;NM_001130004;NM_001102\n",
       "cg00000292          ⋯ ATP2A1;ATP2A1     NM_004320;NM_173201                \n",
       "           UCSC_RefGene_Group Phantom                     DMR Enhancer\n",
       "cg00000029 TSS1500                                                    \n",
       "cg00000108 Body;3'UTR                                                 \n",
       "cg00000109 Body;Body          low-CpG:173398671-173398760             \n",
       "cg00000236 3'UTR;3'UTR                                                \n",
       "cg00000289 3'UTR;3'UTR;3'UTR                                          \n",
       "cg00000292 1stExon;1stExon                                            \n",
       "           HMM_Island Regulatory_Feature_Name Regulatory_Feature_Group DHS \n",
       "cg00000029            16:53467838-53469685    Promoter_Associated      TRUE\n",
       "cg00000108                                                                 \n",
       "cg00000109                                                                 \n",
       "cg00000236                                                                 \n",
       "cg00000289                                                                 \n",
       "cg00000292                                                                 "
      ]
     },
     "metadata": {},
     "output_type": "display_data"
    },
    {
     "data": {
      "text/html": [
       "<table>\n",
       "<caption>A data.frame: 6 × 3</caption>\n",
       "<thead>\n",
       "\t<tr><th scope=col>cpg_id</th><th scope=col>val</th><th scope=col>Relation_to_Island</th></tr>\n",
       "\t<tr><th scope=col>&lt;fct&gt;</th><th scope=col>&lt;dbl&gt;</th><th scope=col>&lt;chr&gt;</th></tr>\n",
       "</thead>\n",
       "<tbody>\n",
       "\t<tr><td>cg00000029</td><td>0.4760974</td><td>N_Shore</td></tr>\n",
       "\t<tr><td>cg00000108</td><td>0.9443131</td><td>OpenSea</td></tr>\n",
       "\t<tr><td>cg00000109</td><td>0.8929125</td><td>OpenSea</td></tr>\n",
       "\t<tr><td>cg00000236</td><td>0.7464122</td><td>OpenSea</td></tr>\n",
       "\t<tr><td>cg00000289</td><td>0.6097531</td><td>N_Shore</td></tr>\n",
       "\t<tr><td>cg00000292</td><td>0.8263536</td><td>N_Shore</td></tr>\n",
       "</tbody>\n",
       "</table>\n"
      ],
      "text/latex": [
       "A data.frame: 6 × 3\n",
       "\\begin{tabular}{r|lll}\n",
       " cpg\\_id & val & Relation\\_to\\_Island\\\\\n",
       " <fct> & <dbl> & <chr>\\\\\n",
       "\\hline\n",
       "\t cg00000029 & 0.4760974 & N\\_Shore\\\\\n",
       "\t cg00000108 & 0.9443131 & OpenSea\\\\\n",
       "\t cg00000109 & 0.8929125 & OpenSea\\\\\n",
       "\t cg00000236 & 0.7464122 & OpenSea\\\\\n",
       "\t cg00000289 & 0.6097531 & N\\_Shore\\\\\n",
       "\t cg00000292 & 0.8263536 & N\\_Shore\\\\\n",
       "\\end{tabular}\n"
      ],
      "text/markdown": [
       "\n",
       "A data.frame: 6 × 3\n",
       "\n",
       "| cpg_id &lt;fct&gt; | val &lt;dbl&gt; | Relation_to_Island &lt;chr&gt; |\n",
       "|---|---|---|\n",
       "| cg00000029 | 0.4760974 | N_Shore |\n",
       "| cg00000108 | 0.9443131 | OpenSea |\n",
       "| cg00000109 | 0.8929125 | OpenSea |\n",
       "| cg00000236 | 0.7464122 | OpenSea |\n",
       "| cg00000289 | 0.6097531 | N_Shore |\n",
       "| cg00000292 | 0.8263536 | N_Shore |\n",
       "\n"
      ],
      "text/plain": [
       "  cpg_id     val       Relation_to_Island\n",
       "1 cg00000029 0.4760974 N_Shore           \n",
       "2 cg00000108 0.9443131 OpenSea           \n",
       "3 cg00000109 0.8929125 OpenSea           \n",
       "4 cg00000236 0.7464122 OpenSea           \n",
       "5 cg00000289 0.6097531 N_Shore           \n",
       "6 cg00000292 0.8263536 N_Shore           "
      ]
     },
     "metadata": {},
     "output_type": "display_data"
    }
   ],
   "source": [
    "avgs = rowSums(gset_age@assayData$exprs)/ncol(gset_age@assayData$exprs)\n",
    "avg_df = data.frame(cpg_id = names(avgs), val = avgs)\n",
    "head(x_age)\n",
    "\n",
    "both = merge(avg_df, x_age[, c('Name', 'Relation_to_Island')], by.x='cpg_id', by.y='Name')\n",
    "head(both)"
   ]
  },
  {
   "cell_type": "code",
   "execution_count": 302,
   "metadata": {},
   "outputs": [
    {
     "data": {
      "image/png": "[encoded data removed]",
      "text/plain": [
       "plot without title"
      ]
     },
     "metadata": {
      "image/png": {
       "height": 420,
       "width": 420
      },
      "text/plain": {
       "height": 420,
       "width": 420
      }
     },
     "output_type": "display_data"
    }
   ],
   "source": [
    "ggplot(both, aes(x=factor(Relation_to_Island, levels=c('Island', 'N_Shore', 'S_Shore', 'N_Shelf', 'S_Shelf', 'OpenSea')), y=val)) + geom_violin() + \n",
    "    labs(x=\"\",y='Average Beta Value') +\n",
    "    theme(text = element_text(size=17)) + coord_fixed(ratio=3)\n",
    "\n",
    "# locs = unique(both$Relation_to_Island)\n",
    "# total_avgs = c()\n",
    "# for (lo in locs){\n",
    "#     total_avgs = c(total_avgs, )\n",
    "# }"
   ]
  },
  {
   "cell_type": "code",
   "execution_count": null,
   "metadata": {},
   "outputs": [],
   "source": []
  }
 ],
 "metadata": {
  "kernelspec": {
   "display_name": "R",
   "language": "R",
   "name": "ir"
  },
  "language_info": {
   "codemirror_mode": "r",
   "file_extension": ".r",
   "mimetype": "text/x-r-source",
   "name": "R",
   "pygments_lexer": "r",
   "version": "3.5.1"
  }
 },
 "nbformat": 4,
 "nbformat_minor": 2
}
